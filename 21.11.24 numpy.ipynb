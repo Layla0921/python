{
 "cells": [
  {
   "cell_type": "code",
   "execution_count": 1,
   "id": "1536933c",
   "metadata": {},
   "outputs": [
    {
     "name": "stdout",
     "output_type": "stream",
     "text": [
      "3\n",
      "int32\n",
      "3\n"
     ]
    }
   ],
   "source": [
    "import numpy as np\n",
    "\n",
    "array = np.array([1,2,3])\n",
    "\n",
    "print(array.size)    # 배열의 크기\n",
    "print(array.dtype)   # 배열 원소의 타입\n",
    "print(array[2])      # 인덱스 2의 원소"
   ]
  },
  {
   "cell_type": "code",
   "execution_count": 3,
   "id": "dde50759",
   "metadata": {},
   "outputs": [
    {
     "name": "stdout",
     "output_type": "stream",
     "text": [
      "[0 1 2 3]\n",
      "[[0. 0. 0. 0.]\n",
      " [0. 0. 0. 0.]\n",
      " [0. 0. 0. 0.]\n",
      " [0. 0. 0. 0.]]\n",
      "[['1' '1' '1']\n",
      " ['1' '1' '1']\n",
      " ['1' '1' '1']]\n",
      "[[5 2 3]\n",
      " [6 3 1]\n",
      " [0 9 7]]\n",
      "[[-2.98068357 -0.02297912 -1.18773962]\n",
      " [-1.23957023  0.30943528 -1.44324565]\n",
      " [ 1.95792435 -1.61706642  0.81912961]]\n"
     ]
    }
   ],
   "source": [
    "import numpy as np\n",
    "\n",
    "array1 = np.arange(4)          \n",
    "array2 = np.zeros((4,4),dtype = float)\n",
    "array3 = np.ones((3,3),dtype = str)\n",
    "# 0부터 9까지 랜덤하게 초기화 된 배열 만들기\n",
    "array4 = np.random.randint(0,10,(3,3))\n",
    "# 평균이 0이고 표준편차가 1인 표준 정규를 띄는 배열\n",
    "array5 = np.random.normal(0,1,(3,3))    \n",
    "\n",
    "\n",
    "print(array1)\n",
    "print(array2)\n",
    "print(array3)\n",
    "print(array4)\n",
    "print(array5)"
   ]
  },
  {
   "cell_type": "markdown",
   "id": "fb36a032",
   "metadata": {},
   "source": [
    "배열 합치기"
   ]
  },
  {
   "cell_type": "code",
   "execution_count": 4,
   "id": "8bc9d099",
   "metadata": {},
   "outputs": [
    {
     "name": "stdout",
     "output_type": "stream",
     "text": [
      "(6,)\n",
      "[1 2 3 4 5 6]\n"
     ]
    }
   ],
   "source": [
    "import numpy as np\n",
    "\n",
    "array1 = np.array([1,2,3])\n",
    "array2 = np.array([4,5,6])\n",
    "array3 = np.concatenate([array1, array2])\n",
    "\n",
    "print(array3.shape)\n",
    "print(array3)"
   ]
  },
  {
   "cell_type": "markdown",
   "id": "1ae5c420",
   "metadata": {},
   "source": [
    "배열 형태 바꾸기"
   ]
  },
  {
   "cell_type": "code",
   "execution_count": 7,
   "id": "9f8985b4",
   "metadata": {},
   "outputs": [
    {
     "name": "stdout",
     "output_type": "stream",
     "text": [
      "(2, 2)\n",
      "[[1 2]\n",
      " [3 4]]\n"
     ]
    }
   ],
   "source": [
    "\n",
    "import numpy as np\n",
    "\n",
    "array1 = np.array([1,2,3,4])\n",
    "array2 = array1.reshape((2,2))\n",
    "\n",
    "print(array2.shape)\n",
    "print(array2)"
   ]
  },
  {
   "cell_type": "markdown",
   "id": "cad34fb0",
   "metadata": {},
   "source": [
    "배열 세로 축으로 합치기"
   ]
  },
  {
   "cell_type": "code",
   "execution_count": 22,
   "id": "371adfbe",
   "metadata": {},
   "outputs": [
    {
     "name": "stdout",
     "output_type": "stream",
     "text": [
      "(3, 4)\n",
      "[[0 1 2 3]\n",
      " [0 1 2 3]\n",
      " [4 5 6 7]]\n"
     ]
    }
   ],
   "source": [
    "import numpy as np\n",
    "\n",
    "array1 = np.arange(4).reshape(1,4)\n",
    "array2 = np.arange(8).reshape(2,4)\n",
    "\n",
    "array3 = np.concatenate([array1,array2],axis = 0)\n",
    "print(array3.shape)\n",
    "print(array3)"
   ]
  },
  {
   "cell_type": "markdown",
   "id": "518b033d",
   "metadata": {},
   "source": [
    "배열 나누기"
   ]
  },
  {
   "cell_type": "code",
   "execution_count": 15,
   "id": "d724fa4e",
   "metadata": {},
   "outputs": [
    {
     "name": "stdout",
     "output_type": "stream",
     "text": [
      "(2, 2)\n",
      "[[0 1]\n",
      " [4 5]]\n",
      "(2, 2)\n",
      "[[2 3]\n",
      " [6 7]]\n"
     ]
    }
   ],
   "source": [
    "import numpy as np\n",
    "\n",
    "array = np.arange(8).reshape(2,4)\n",
    " # array를 [2] 기준으로 axis = 1 -> 열을 기준으로 나누기\n",
    "left, right = np.split(array,[2],axis=1)  \n",
    "print(left.shape)\n",
    "print(left)\n",
    "print(right.shape)\n",
    "print(right)\n",
    "#print(right[1][1])"
   ]
  },
  {
   "cell_type": "code",
   "execution_count": 20,
   "id": "3efb2235",
   "metadata": {},
   "outputs": [
    {
     "name": "stdout",
     "output_type": "stream",
     "text": [
      "[[0 1 2 3]\n",
      " [4 5 6 7]]\n"
     ]
    }
   ],
   "source": [
    "import numpy as np\n",
    "\n",
    "array = np.arange(12).reshape(3,4)\n",
    "left, right = np.split(array,[2],axis=0)\n",
    "print(left)"
   ]
  },
  {
   "cell_type": "code",
   "execution_count": 28,
   "id": "4b78b650",
   "metadata": {},
   "outputs": [
    {
     "name": "stdout",
     "output_type": "stream",
     "text": [
      "[[80 90]\n",
      " [30 20]]\n"
     ]
    }
   ],
   "source": [
    "import numpy as np\n",
    "\n",
    "array= np.random.randint(1,10,size = 4).reshape(2,2)\n",
    "result_array = array*10\n",
    "print(result_array)"
   ]
  },
  {
   "cell_type": "code",
   "execution_count": 39,
   "id": "2e8821d4",
   "metadata": {},
   "outputs": [
    {
     "name": "stdout",
     "output_type": "stream",
     "text": [
      "[[0 1]\n",
      " [2 3]]\n",
      "[0 1]\n",
      "[[0 2]\n",
      " [2 4]]\n",
      "[[0]\n",
      " [1]]\n",
      "[[0 1]\n",
      " [3 4]]\n"
     ]
    }
   ],
   "source": [
    "import numpy as np\n",
    "\n",
    "array1 = np.arange(4).reshape(2,2)\n",
    "array2 = np.arange(2)\n",
    "array3 = array1 + array2\n",
    "array4 = np.arange(2).reshape(2,1)\n",
    "array5 = array1 + array4\n",
    "\n",
    "print(array1)\n",
    "print(array2)\n",
    "print(array3)\n",
    "print(array4)\n",
    "print(array5)"
   ]
  },
  {
   "cell_type": "code",
   "execution_count": 32,
   "id": "845d4d2e",
   "metadata": {},
   "outputs": [
    {
     "name": "stdout",
     "output_type": "stream",
     "text": [
      "[[0 1 2 3]\n",
      " [4 5 6 7]\n",
      " [0 1 2 3]\n",
      " [4 5 6 7]]\n",
      "[[0]\n",
      " [1]\n",
      " [2]\n",
      " [3]]\n",
      "[[ 0  1  2  3]\n",
      " [ 5  6  7  8]\n",
      " [ 2  3  4  5]\n",
      " [ 7  8  9 10]]\n"
     ]
    }
   ],
   "source": [
    "import numpy as np\n",
    "\n",
    "array1 = np.arange(0,8).reshape(2,4)\n",
    "array2 = np.arange(0,8).reshape(2,4)\n",
    "array3 = np.concatenate([array1, array2],axis=0)\n",
    "array4 = np.arange(0,4).reshape(4,1)\n",
    "\n",
    "print(array3)\n",
    "print(array4)\n",
    "print(array3 + array4)"
   ]
  },
  {
   "cell_type": "code",
   "execution_count": 34,
   "id": "63390668",
   "metadata": {},
   "outputs": [
    {
     "name": "stdout",
     "output_type": "stream",
     "text": [
      "[[ 0  1  2  3]\n",
      " [ 4  5  6  7]\n",
      " [ 8  9 10 11]\n",
      " [12 13 14 15]]\n",
      "[[ True  True  True  True]\n",
      " [ True  True  True  True]\n",
      " [ True  True False False]\n",
      " [False False False False]]\n",
      "[[100 100 100 100]\n",
      " [100 100 100 100]\n",
      " [100 100  10  11]\n",
      " [ 12  13  14  15]]\n"
     ]
    }
   ],
   "source": [
    "import numpy as np\n",
    "\n",
    "array1 = np.arange(16).reshape(4,4)\n",
    "print(array1)\n",
    "\n",
    "array2 = array1 <10\n",
    "print(array2)\n",
    "\n",
    "array1[array2] = 100          # True 값이 array2의 원소로 바뀜\n",
    "print(array1)"
   ]
  },
  {
   "cell_type": "code",
   "execution_count": 35,
   "id": "feec3a7a",
   "metadata": {},
   "outputs": [
    {
     "name": "stdout",
     "output_type": "stream",
     "text": [
      "최댓값:  15\n",
      "최솟값:  0\n",
      "합계:  120\n",
      "평균값:  7.5\n"
     ]
    }
   ],
   "source": [
    "import numpy as np\n",
    "\n",
    "array = np.arange(16).reshape(4,4)\n",
    "\n",
    "print(\"최댓값: \",np.max(array))\n",
    "print(\"최솟값: \",np.min(array))\n",
    "print(\"합계: \",np.sum(array))\n",
    "print(\"평균값: \",np.mean(array))"
   ]
  },
  {
   "cell_type": "code",
   "execution_count": 38,
   "id": "b19dcd10",
   "metadata": {},
   "outputs": [
    {
     "name": "stdout",
     "output_type": "stream",
     "text": [
      "[[ 0  1  2  3]\n",
      " [ 4  5  6  7]\n",
      " [ 8  9 10 11]\n",
      " [12 13 14 15]]\n",
      "합계:  [24 28 32 36]\n",
      "합계:  [ 6 22 38 54]\n"
     ]
    }
   ],
   "source": [
    "import numpy as np\n",
    "\n",
    "array = np.arange(16).reshape(4,4)\n",
    "\n",
    "print(array)\n",
    "print(\"합계: \",np.sum(array,axis=0))\n",
    "print(\"합계: \",np.sum(array, axis=1))"
   ]
  },
  {
   "cell_type": "code",
   "execution_count": null,
   "id": "04ce11ab",
   "metadata": {},
   "outputs": [],
   "source": []
  },
  {
   "cell_type": "code",
   "execution_count": null,
   "id": "754af477",
   "metadata": {},
   "outputs": [],
   "source": []
  },
  {
   "cell_type": "code",
   "execution_count": null,
   "id": "a95e3c35",
   "metadata": {},
   "outputs": [],
   "source": []
  },
  {
   "cell_type": "code",
   "execution_count": null,
   "id": "4ce1da6e",
   "metadata": {},
   "outputs": [],
   "source": []
  }
 ],
 "metadata": {
  "kernelspec": {
   "display_name": "Python 3 (ipykernel)",
   "language": "python",
   "name": "python3"
  },
  "language_info": {
   "codemirror_mode": {
    "name": "ipython",
    "version": 3
   },
   "file_extension": ".py",
   "mimetype": "text/x-python",
   "name": "python",
   "nbconvert_exporter": "python",
   "pygments_lexer": "ipython3",
   "version": "3.9.7"
  },
  "toc": {
   "base_numbering": 1,
   "nav_menu": {},
   "number_sections": true,
   "sideBar": true,
   "skip_h1_title": false,
   "title_cell": "Table of Contents",
   "title_sidebar": "Contents",
   "toc_cell": false,
   "toc_position": {},
   "toc_section_display": true,
   "toc_window_display": false
  }
 },
 "nbformat": 4,
 "nbformat_minor": 5
}
